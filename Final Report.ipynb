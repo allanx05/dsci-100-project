{
 "cells": [
  {
   "cell_type": "markdown",
   "id": "f8b2b7ef-3bb2-4ece-a0f4-f087da15b5b4",
   "metadata": {},
   "source": [
    "# Predicting Newsletter Sign-Up From Firstweek Playtime on a Minecraft Research Server\n",
    "*Allan Xue – DSCI 100 Final Project – June 2025*"
   ]
  },
  {
   "cell_type": "markdown",
   "id": "4afdd077-3033-48a0-a8ef-7349a700c193",
   "metadata": {},
   "source": [
    "### Introduction\n",
    "\n",
    "#### Background\n",
    "\n",
    "A research group in the UBC Computer Science department, led by Frank Wood, is operating a public Minecraft server to investigate how people explore, build, and cooperate in an open-world game. Due to the nature of the project, the team must recruit and retain players, ensuring they have sufficient resources to manage the large number of players. One early signal of engagement is whether a newcomer decides to enroll in the project newsletter. If we can predict the choice based on the behaviour shown in the first few days, the team can automate follow-up emails and avoid wasting resources on unlikely contributors. \n",
    "\n",
    "#### Question\n",
    "Can a player's total playtime in their first seven days on the server predict whether they will subscribe to the newsletter?\n",
    "\n",
    "#### Data Description\n",
    "\n",
    "\n",
    "| File | Rows | Cols | One row = | Key variables (type) | Notes |\n",
    "|------|------|------|-----------|----------------------|-------|\n",
    "| **`players.csv`** | **196** | 7 | an individual player | `hashedEmail` (str, unique ID)  <br>`experience` (chr – “Amateur”, “Regular”, …)  <br>`played_hours` (num – lifetime hours when file exported)  <br>`gender` (chr)  <br>`Age` (num)  <br>`subscribe` (lgl) | 2 missing `Age` values; 144 subscribers vs 52 non-subscribers |\n",
    "| **`sessions.csv`** | **1535** | 5 | one login session | `hashedEmail` (str, FK → players)  <br>`start_time`, `end_time` (chr “dd/mm/YYYY HH:MM”)  <br>`original_start_time`, `original_end_time` (num – Unix ms) | 2 sessions have missing `end_time` (player disconnected abruptly) |\n",
    "\n",
    "\n",
    "#### Collected variables\n",
    "\n",
    "* **`hashedEmail`** – identifies a participant while preserving anonymity.  \n",
    "* **`experience`** – self-reported Minecraft skill tier at sign-up (`Amateur`, `Regular`, `Pro`, `Veteran`, `Legend`).  \n",
    "* **`played_hours`** – hours played before the current data pull\n",
    "* **Session times**    \n",
    "  * `start_time`/`end_time`: human-readable; converted to calendar time during wrangling.  \n",
    "  * `original_start_time/end_time`: kept as reference.\n",
    "\n",
    "\n",
    "\n",
    "#### Considerations\n",
    "* **Missing values:** 2 ages, 2 session `end_time`s. We put `total_minutes_first_week = 0` when a player has no sessions in week 1.  \n",
    "* **Potential bias:** Players choose to sign up, so the sample may over-represent highly motivated individuals.  \n",
    "* **Time stamps:** Stored as strings and must be parsed carefully\n",
    "* **Unit mismatch:** `played_hours` is hours, but predictor is minutes. We keep both and label units in plots.\n"
   ]
  },
  {
   "cell_type": "code",
   "execution_count": null,
   "id": "9ac8b518-16a9-4855-8a0e-40aaf2d2b63c",
   "metadata": {},
   "outputs": [],
   "source": []
  }
 ],
 "metadata": {
  "kernelspec": {
   "display_name": "R",
   "language": "R",
   "name": "ir"
  },
  "language_info": {
   "codemirror_mode": "r",
   "file_extension": ".r",
   "mimetype": "text/x-r-source",
   "name": "R",
   "pygments_lexer": "r",
   "version": "4.3.3"
  }
 },
 "nbformat": 4,
 "nbformat_minor": 5
}
