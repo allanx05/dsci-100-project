{
 "cells": [
  {
   "cell_type": "markdown",
   "id": "f8b2b7ef-3bb2-4ece-a0f4-f087da15b5b4",
   "metadata": {},
   "source": [
    "# Predicting Newsletter Sign-Up From Firstweek Playtime on a Minecraft Research Server\n",
    "*Allan Xue – DSCI 100 Final Project – June 2025*"
   ]
  },
  {
   "cell_type": "markdown",
   "id": "4afdd077-3033-48a0-a8ef-7349a700c193",
   "metadata": {},
   "source": [
    "### Introduction\n",
    "\n"
   ]
  },
  {
   "cell_type": "code",
   "execution_count": null,
   "id": "9ac8b518-16a9-4855-8a0e-40aaf2d2b63c",
   "metadata": {},
   "outputs": [],
   "source": []
  }
 ],
 "metadata": {
  "kernelspec": {
   "display_name": "R",
   "language": "R",
   "name": "ir"
  },
  "language_info": {
   "codemirror_mode": "r",
   "file_extension": ".r",
   "mimetype": "text/x-r-source",
   "name": "R",
   "pygments_lexer": "r",
   "version": "4.3.3"
  }
 },
 "nbformat": 4,
 "nbformat_minor": 5
}
